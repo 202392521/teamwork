{
 "cells": [
  {
   "cell_type": "code",
   "execution_count": null,
   "id": "3784462d",
   "metadata": {
    "vscode": {
     "languageId": "plaintext"
    }
   },
   "outputs": [],
   "source": [
    "dsahdkasdhsakd"
   ]
  }
 ],
 "metadata": {
  "language_info": {
   "name": "python"
  }
 },
 "nbformat": 4,
 "nbformat_minor": 5
}
